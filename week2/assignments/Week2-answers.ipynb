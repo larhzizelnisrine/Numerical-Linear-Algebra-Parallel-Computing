{
 "cells": [
  {
   "cell_type": "markdown",
   "id": "9ae026b6",
   "metadata": {},
   "source": [
    "Use the cell below for your imports."
   ]
  },
  {
   "cell_type": "code",
   "execution_count": 1,
   "id": "b96cc52d",
   "metadata": {},
   "outputs": [],
   "source": [
    "import numpy as np\n",
    "from scipy.sparse import coo_matrix, csr_matrix\n",
    "from scipy.sparse.linalg import spsolve"
   ]
  },
  {
   "cell_type": "markdown",
   "id": "73b58f92",
   "metadata": {},
   "source": [
    "implement the function mat_mul_coo that takes two sparse matrices in coo and returns their product."
   ]
  },
  {
   "cell_type": "code",
   "execution_count": 2,
   "id": "aa811878",
   "metadata": {},
   "outputs": [],
   "source": [
    "def mat_mul_coo(a: coo_matrix, b: coo_matrix) -> coo_matrix:\n",
    "    if a.shape[1] != b.shape[0]:\n",
    "        raise ValueError(\"Matrix dimensions do not match for multiplication\")\n",
    "\n",
    "    a_csr = csr_matrix(a)\n",
    "    b_csr = csr_matrix(b)\n",
    "\n",
    "    result = a_csr.dot(b_csr).tocoo()\n",
    "    result.sum_duplicates()\n",
    "\n",
    "    return result"
   ]
  },
  {
   "cell_type": "markdown",
   "id": "13314949",
   "metadata": {},
   "source": [
    "implement the function mat_mul_csr that takes two sparse matrices in csr format and returns their product."
   ]
  },
  {
   "cell_type": "code",
   "execution_count": 3,
   "id": "eb7641a0",
   "metadata": {},
   "outputs": [],
   "source": [
    "def mat_mul_csr(a: csr_matrix, b: csr_matrix) -> csr_matrix:\n",
    "    if a.shape[1] != b.shape[0]:\n",
    "        raise ValueError(\"Matrix dimensions do not match for multiplication\")\n",
    "\n",
    "    result = a.dot(b)\n",
    "\n",
    "    return result"
   ]
  },
  {
   "cell_type": "markdown",
   "id": "cf03d512",
   "metadata": {},
   "source": [
    "implement a function solve_lin_sys that takes a matrix A in csr format and a vector b as a numpy array and solves the system Ax = b."
   ]
  },
  {
   "cell_type": "code",
   "execution_count": 23,
   "id": "ba1aef04",
   "metadata": {},
   "outputs": [],
   "source": [
    "def solve_lin_sys(A: csr_matrix, b: np.ndarray) -> np.ndarray:\n",
    "    x = spsolve(A, b)\n",
    "    return x"
   ]
  },
  {
   "cell_type": "code",
   "execution_count": 27,
   "id": "8f1c28f8",
   "metadata": {},
   "outputs": [],
   "source": [
    "data = np.array([1, 2, 3])\n",
    "row  = np.array([0, 1, 2])\n",
    "col  = np.array([0, 1, 2])\n",
    "\n",
    "sparse_matrix = coo_matrix((data, (row, col)))"
   ]
  },
  {
   "cell_type": "code",
   "execution_count": 28,
   "id": "6614d2c4",
   "metadata": {},
   "outputs": [
    {
     "data": {
      "text/plain": [
       "matrix([[1, 0, 0],\n",
       "        [0, 2, 0],\n",
       "        [0, 0, 3]])"
      ]
     },
     "execution_count": 28,
     "metadata": {},
     "output_type": "execute_result"
    }
   ],
   "source": [
    "sparse_matrix.todense()"
   ]
  },
  {
   "cell_type": "code",
   "execution_count": 29,
   "id": "b8b6f919",
   "metadata": {},
   "outputs": [],
   "source": [
    "u = mat_mul_coo(sparse_matrix,sparse_matrix)"
   ]
  },
  {
   "cell_type": "code",
   "execution_count": 30,
   "id": "c0787dc9",
   "metadata": {},
   "outputs": [
    {
     "data": {
      "text/plain": [
       "matrix([[1, 0, 0],\n",
       "        [0, 4, 0],\n",
       "        [0, 0, 9]], dtype=int32)"
      ]
     },
     "execution_count": 30,
     "metadata": {},
     "output_type": "execute_result"
    }
   ],
   "source": [
    "u.todense()"
   ]
  },
  {
   "cell_type": "code",
   "execution_count": 31,
   "id": "32a75079",
   "metadata": {},
   "outputs": [
    {
     "name": "stdout",
     "output_type": "stream",
     "text": [
      "[[1 5 0 5 0 0 0 0 0]\n",
      " [0 0 5 5 0 0 0 0 4]\n",
      " [0 0 0 0 0 0 0 0 0]]\n"
     ]
    }
   ],
   "source": [
    "data = np.array([1, 5, 5, 4, 5, 5])\n",
    "col_indices = np.array([0, 1, 3, 8, 2, 3])\n",
    "row_pointers = np.array([0, 3, 6, 3])\n",
    "\n",
    "sparse_matrix = csr_matrix((data, col_indices, row_pointers))\n",
    "\n",
    "dense_matrix = sparse_matrix.toarray()\n",
    "\n",
    "print(dense_matrix)"
   ]
  },
  {
   "cell_type": "code",
   "execution_count": 32,
   "id": "80820931",
   "metadata": {},
   "outputs": [
    {
     "name": "stdout",
     "output_type": "stream",
     "text": [
      "  (0, 0)\t1\n",
      "  (0, 1)\t6\n",
      "  (1, 1)\t1\n",
      "  (2, 1)\t1\n",
      "  (2, 2)\t3\n"
     ]
    }
   ],
   "source": [
    "dense_matrix = np.array([[1, 6, 0], [0, 1, 0], [0, 1, 3]])\n",
    "\n",
    "# create a CSR matrix from the dense matrix\n",
    "csr_matrix = csr_matrix(dense_matrix)\n",
    "\n",
    "# print the CSR matrix\n",
    "print(csr_matrix)"
   ]
  },
  {
   "cell_type": "code",
   "execution_count": 33,
   "id": "148a35d4",
   "metadata": {},
   "outputs": [],
   "source": [
    "v= mat_mul_csr(csr_matrix,csr_matrix)"
   ]
  },
  {
   "cell_type": "code",
   "execution_count": 34,
   "id": "29319a0e",
   "metadata": {},
   "outputs": [
    {
     "data": {
      "text/plain": [
       "matrix([[ 1, 12,  0],\n",
       "        [ 0,  1,  0],\n",
       "        [ 0,  4,  9]], dtype=int32)"
      ]
     },
     "execution_count": 34,
     "metadata": {},
     "output_type": "execute_result"
    }
   ],
   "source": [
    "v.todense()"
   ]
  },
  {
   "cell_type": "code",
   "execution_count": null,
   "id": "657bd4e7",
   "metadata": {},
   "outputs": [],
   "source": []
  }
 ],
 "metadata": {
  "kernelspec": {
   "display_name": "Python 3 (ipykernel)",
   "language": "python",
   "name": "python3"
  },
  "language_info": {
   "codemirror_mode": {
    "name": "ipython",
    "version": 3
   },
   "file_extension": ".py",
   "mimetype": "text/x-python",
   "name": "python",
   "nbconvert_exporter": "python",
   "pygments_lexer": "ipython3",
   "version": "3.9.7"
  }
 },
 "nbformat": 4,
 "nbformat_minor": 5
}
